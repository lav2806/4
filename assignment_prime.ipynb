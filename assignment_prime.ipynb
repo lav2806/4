{
  "nbformat": 4,
  "nbformat_minor": 0,
  "metadata": {
    "colab": {
      "name": "assignment_prime.ipynb",
      "provenance": []
    },
    "kernelspec": {
      "name": "python3",
      "display_name": "Python 3"
    }
  },
  "cells": [
    {
      "cell_type": "code",
      "metadata": {
        "id": "NMeUGDOsZ3kt",
        "colab_type": "code",
        "colab": {
          "base_uri": "https://localhost:8080/",
          "height": 51
        },
        "outputId": "f9bc7f0a-e6f4-46e3-8969-5ffad08addee"
      },
      "source": [
        "num =int(input(\"enter the no\"))\n",
        "if num > 1:  \n",
        "   for i in range(2, num):  \n",
        "       if (num % i) == 0: \n",
        "           print(num, \"is not a prime number\") \n",
        "           break\n",
        "       else: \n",
        "          print(num, \"is a prime number\") \n",
        "  \n",
        "else: \n",
        "   print(num, \"is not a prime number\") \n",
        "\n",
        "   \n",
        " "
      ],
      "execution_count": 14,
      "outputs": [
        {
          "output_type": "stream",
          "text": [
            "enter the no4\n",
            "4 is not a prime number\n"
          ],
          "name": "stdout"
        }
      ]
    }
  ]
}