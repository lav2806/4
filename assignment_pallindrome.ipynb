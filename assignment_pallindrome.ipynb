{
  "nbformat": 4,
  "nbformat_minor": 0,
  "metadata": {
    "colab": {
      "name": "assignment_pallindrome.ipynb",
      "provenance": []
    },
    "kernelspec": {
      "name": "python3",
      "display_name": "Python 3"
    }
  },
  "cells": [
    {
      "cell_type": "code",
      "metadata": {
        "id": "leKrbURpW6o6",
        "colab_type": "code",
        "colab": {
          "base_uri": "https://localhost:8080/",
          "height": 51
        },
        "outputId": "fe346c8b-21a9-45a2-9fc1-890b776c551f"
      },
      "source": [
        "num=input(\"enter the number\")\n",
        "try:\n",
        "       temp=int(num)\n",
        "       rev=0\n",
        "       num1=int(num)\n",
        "       while(num1>0):\n",
        "               r=num1%10\n",
        "               rev=rev*10+r\n",
        "               num1=num1//10\n",
        "       if temp==rev:\n",
        "                     print(\"number is pallindrome\")\n",
        "       else:\n",
        "                      print(\"not a pallindrome\")\n",
        "except valueerror:\n",
        "                  print(\"the input is not proper\")"
      ],
      "execution_count": 1,
      "outputs": [
        {
          "output_type": "stream",
          "text": [
            "enter the number121\n",
            "number is pallindrome\n"
          ],
          "name": "stdout"
        }
      ]
    }
  ]
}