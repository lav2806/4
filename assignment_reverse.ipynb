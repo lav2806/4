{
  "nbformat": 4,
  "nbformat_minor": 0,
  "metadata": {
    "colab": {
      "name": "assignment_reverse.ipynb",
      "provenance": []
    },
    "kernelspec": {
      "name": "python3",
      "display_name": "Python 3"
    }
  },
  "cells": [
    {
      "cell_type": "code",
      "metadata": {
        "id": "6Bu1Gkh0XgTz",
        "colab_type": "code",
        "colab": {
          "base_uri": "https://localhost:8080/",
          "height": 51
        },
        "outputId": "2ffa379a-f8cd-4525-abaa-b4e54466d258"
      },
      "source": [
        "def reverse(s): \n",
        "  str = \"\" \n",
        "  for i in s: \n",
        "    str = i + str\n",
        "  return str\n",
        "  \n",
        "s = input(\"enter the string \")\n",
        "print (\"The reversed string is : \",end=\"\") \n",
        "print (reverse(s)) \n"
      ],
      "execution_count": 4,
      "outputs": [
        {
          "output_type": "stream",
          "text": [
            "enter the stringlavanya\n",
            "The reversed string(using loops) is : aynaval\n"
          ],
          "name": "stdout"
        }
      ]
    }
  ]
}