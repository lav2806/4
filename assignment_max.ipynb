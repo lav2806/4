{
  "nbformat": 4,
  "nbformat_minor": 0,
  "metadata": {
    "colab": {
      "name": "assignment_max.ipynb",
      "provenance": []
    },
    "kernelspec": {
      "name": "python3",
      "display_name": "Python 3"
    }
  },
  "cells": [
    {
      "cell_type": "code",
      "metadata": {
        "id": "FZPhznqeWBgG",
        "colab_type": "code",
        "colab": {
          "base_uri": "https://localhost:8080/",
          "height": 85
        },
        "outputId": "0b097c48-e136-4cf2-8849-f574465b20c4"
      },
      "source": [
        "n1=int(input(\"enter the 1st no\"))\n",
        "n2=int(input(\"enter the 2nd no\"))\n",
        "n3=int(input(\"enter the 3rd no\"))\n",
        "p=max(n1,n2,n3)\n",
        "print(\"the max of 3 num is {}\".format(p))"
      ],
      "execution_count": 2,
      "outputs": [
        {
          "output_type": "stream",
          "text": [
            "enter the 1st no1\n",
            "enter the 2nd no2\n",
            "enter the 3rd no3\n",
            "the max of 3 num is 3\n"
          ],
          "name": "stdout"
        }
      ]
    }
  ]
}