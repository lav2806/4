{
  "nbformat": 4,
  "nbformat_minor": 0,
  "metadata": {
    "colab": {
      "name": "assignment_sumofsq.ipynb",
      "provenance": []
    },
    "kernelspec": {
      "name": "python3",
      "display_name": "Python 3"
    }
  },
  "cells": [
    {
      "cell_type": "code",
      "metadata": {
        "id": "QkYoHksXfGpn",
        "colab_type": "code",
        "colab": {
          "base_uri": "https://localhost:8080/",
          "height": 51
        },
        "outputId": "85bc0b51-65b8-45b1-d029-d5e69b7d17f8"
      },
      "source": [
        "def squaresum(n) : \n",
        "    sm = 0\n",
        "    for i in range(1, n+1) : \n",
        "        sm = sm + (i * i) \n",
        "      \n",
        "    return sm   \n",
        "n = int(input(\"enter the no\"))\n",
        "print(squaresum(n)) "
      ],
      "execution_count": 3,
      "outputs": [
        {
          "output_type": "stream",
          "text": [
            "enter the no4\n",
            "30\n"
          ],
          "name": "stdout"
        }
      ]
    }
  ]
}